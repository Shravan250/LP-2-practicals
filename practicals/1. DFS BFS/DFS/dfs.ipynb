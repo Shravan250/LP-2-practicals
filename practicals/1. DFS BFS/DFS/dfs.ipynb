{
 "cells": [
  {
   "cell_type": "code",
   "execution_count": 3,
   "metadata": {},
   "outputs": [
    {
     "name": "stdout",
     "output_type": "stream",
     "text": [
      "Enter the number of vertices:  5\n",
      "Enter a vertex:  a\n",
      "Enter its neighbors (separated by spaces):  b c e\n",
      "Enter a vertex:  b\n",
      "Enter its neighbors (separated by spaces):  a  d\n",
      "Enter a vertex:  c\n",
      "Enter its neighbors (separated by spaces):  a d\n",
      "Enter a vertex:  d\n",
      "Enter its neighbors (separated by spaces):  a c d\n",
      "Enter a vertex:  e\n",
      "Enter its neighbors (separated by spaces):  a d\n",
      "Enter the starting vertex:  a\n",
      "Enter the goal vertex:  c\n"
     ]
    },
    {
     "name": "stdout",
     "output_type": "stream",
     "text": [
      "DFS traversal:\n",
      "a\n",
      "c\n",
      "d\n",
      "e\n",
      "b\n",
      "DFS path to goal:\n",
      "Path to goal: ['a', 'c']\n"
     ]
    },
    {
     "data": {
      "text/plain": [
       "['a', 'c']"
      ]
     },
     "execution_count": 3,
     "metadata": {},
     "output_type": "execute_result"
    }
   ],
   "source": [
    "from collections import defaultdict\n",
    "\n",
    "# DFS implementation\n",
    "def dfs(graph, start):\n",
    "    visited = set()\n",
    "    stack = [start]\n",
    "   \n",
    "    while stack:\n",
    "        vertex = stack.pop()\n",
    "        if vertex not in visited:\n",
    "            print(vertex)  # or do whatever you want with the vertex\n",
    "            visited.add(vertex)\n",
    "            stack.extend(graph[vertex] - visited)\n",
    "\n",
    "\n",
    "# Function to find path using DFS\n",
    "def dfs_path(graph, start, goal):\n",
    "    visited = set()\n",
    "    stack = [(start, [start])]  # Stack holds tuples of (vertex, path)\n",
    "\n",
    "    while stack:\n",
    "        vertex, path = stack.pop()\n",
    "        if vertex not in visited:\n",
    "            if vertex == goal:\n",
    "                print(\"Path to goal:\", path)\n",
    "                return path  # Return the path to the goal\n",
    "            visited.add(vertex)\n",
    "            for neighbor in graph[vertex] - visited:\n",
    "                stack.append((neighbor, path + [neighbor]))\n",
    "\n",
    "    print(\"Goal not found\")\n",
    "    return None  # Return None if goal is not found\n",
    "\n",
    "\n",
    "# Taking dynamic input for the graph\n",
    "graph = defaultdict(set)\n",
    "\n",
    "num_vertices = int(input(\"Enter the number of vertices: \"))\n",
    "\n",
    "for _ in range(num_vertices):\n",
    "    vertex = input(\"Enter a vertex: \")\n",
    "    neighbors = input(\"Enter its neighbors (separated by spaces): \").split()\n",
    "    graph[vertex].update(neighbors)\n",
    "\n",
    "start_vertex = input(\"Enter the starting vertex: \")\n",
    "goal_vertex = input(\"Enter the goal vertex: \")\n",
    "\n",
    "# Perform DFS and BFS\n",
    "print(\"DFS traversal:\")\n",
    "dfs(graph, start_vertex)\n",
    "\n",
    "# Find and display path to the goal using DFS and BFS\n",
    "print(\"DFS path to goal:\")\n",
    "dfs_path(graph, start_vertex, goal_vertex)\n"
   ]
  },
  {
   "cell_type": "code",
   "execution_count": null,
   "metadata": {},
   "outputs": [
    {
     "name": "stdout",
     "output_type": "stream",
     "text": [
      "Sachin Choudhary\n",
      "Roll No. TBCO22107\n"
     ]
    },
    {
     "name": "stdout",
     "output_type": "stream",
     "text": [
      "Enter the number of vertices:  5\n",
      "Enter a vertex:  a\n",
      "Enter its neighbors (separated by spaces):  b c e\n",
      "Enter a vertex:  b\n",
      "Enter its neighbors (separated by spaces):  a d\n",
      "Enter a vertex:  c\n",
      "Enter its neighbors (separated by spaces):  a d\n",
      "Enter a vertex:  d\n",
      "Enter its neighbors (separated by spaces):  a c d\n",
      "Enter a vertex:  e\n",
      "Enter its neighbors (separated by spaces):  a d\n",
      "Enter the starting vertex:  a\n",
      "Enter the goal vertex:  c\n"
     ]
    },
    {
     "name": "stdout",
     "output_type": "stream",
     "text": [
      "\n",
      "Recursive DFS traversal:\n",
      "a\n",
      "b\n",
      "d\n",
      "c\n",
      "e\n",
      "\n",
      "Recursive DFS path to goal:\n",
      "Path to goal: ['a', 'b', 'd', 'c']\n"
     ]
    }
   ],
   "source": [
    "\n"
   ]
  },
  {
   "cell_type": "code",
   "execution_count": null,
   "metadata": {},
   "outputs": [],
   "source": []
  }
 ],
 "metadata": {
  "kernelspec": {
   "display_name": "Python 3 (ipykernel)",
   "language": "python",
   "name": "python3"
  },
  "language_info": {
   "codemirror_mode": {
    "name": "ipython",
    "version": 3
   },
   "file_extension": ".py",
   "mimetype": "text/x-python",
   "name": "python",
   "nbconvert_exporter": "python",
   "pygments_lexer": "ipython3",
   "version": "3.12.7"
  }
 },
 "nbformat": 4,
 "nbformat_minor": 4
}
